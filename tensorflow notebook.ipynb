{
 "cells": [
  {
   "cell_type": "markdown",
   "metadata": {},
   "source": [
    "Start by importing all the modules you will need"
   ]
  },
  {
   "cell_type": "code",
   "execution_count": 180,
   "metadata": {},
   "outputs": [
    {
     "name": "stdout",
     "output_type": "stream",
     "text": [
      "Tensorflow version :  2.13.1\n",
      "GPU not visible\n"
     ]
    }
   ],
   "source": [
    "import tensorflow as tf\n",
    "\n",
    "import numpy as np # useful to have\n",
    "%matplotlib inline \n",
    "# Above line Needed for juypter only\n",
    "from matplotlib import pyplot as plt\n",
    "import pandas as pd\n",
    "\n",
    "print(\"Tensorflow version : \", tf.__version__)\n",
    "if tf.config.list_physical_devices('GPU'):\n",
    "    print(\"GPU visible\",end=\" \")\n",
    "    if tf.test.is_built_with_cuda():\n",
    "        print(\"-> GPU enabled\")\n",
    "else:\n",
    "    print(\"GPU not visible\")"
   ]
  },
  {
   "cell_type": "markdown",
   "metadata": {},
   "source": [
    "# Keras and Tensorflow\n",
    "\n",
    "Keras is a high level API for machine learning, Tensorflow is built on top of keras so it can be used more easily in python\n",
    "\n",
    "GPU is not supported as of Tensorflow 2.10 for windows, however you can build a virtual enviroment/docker. \n",
    "- I will not explain virtualisation here as the CPU is more than enough for this task.\n",
    "\n",
    "\n",
    "# Tensorflow site:\n",
    "\n",
    "https://www.tensorflow.org/\n",
    "\n",
    "This notebook follows the beginner quickstart guide however the steps involved are explained much further.\n",
    "\n",
    "https://www.tensorflow.org/tutorials/quickstart/beginner\n",
    "\n"
   ]
  },
  {
   "cell_type": "markdown",
   "metadata": {},
   "source": [
    "# Data\n",
    "\n",
    "The data we will be using is a series of hand drawn images of numbers 0 to 9, Each image is labeled with its correct answer so the model can improve its results. Tensorflow/keras comes with this dataset and others already but you can get it here as well\n",
    "\n",
    "http://yann.lecun.com/exdb/mnist/\n",
    "\n",
    "We seperate out two sets of data for neural networks, this sepeation should be random to avoid bias\n",
    "- Training data\n",
    "    - this is the larger set and the model weights will be trained using this\n",
    "- Testing data\n",
    "    - we use a test dataset to see both how it performs with data it has never seen before and how it compares to previous versions of itself. This is how we can be certain that the model is learning and not memorising.\n",
    "\n",
    "When training the model we give it the image in the form of a matrix and it has to guess what that image represents, it makes this guess using the output layer, the output is in the form of a probability or confidence, we consider the highest value in the final layer as it's answer in most cases.\n",
    "\n",
    "A data is often the limiting factor of machine learning models, it needs to be very large, varied and accurately labeled to train a good model. If there is too little data or the data does not have enough variation the model wont be able to find patterns properly and will just overfit to the dataset"
   ]
  },
  {
   "cell_type": "code",
   "execution_count": 159,
   "metadata": {},
   "outputs": [
    {
     "name": "stdout",
     "output_type": "stream",
     "text": [
      "Training data size :  60,000\n",
      "Test data size     :  10,000\n"
     ]
    }
   ],
   "source": [
    "mnist_data = tf.keras.datasets.mnist\n",
    "(train_images, train_label), (test_images, test_label) = mnist_data.load_data()\n",
    "# Scale the intergers to values between 0 and 1, this helps remove any biases.\n",
    "# for example 5 is drawn with only values of 255 but 6 is drawn with only values of 1, the model may pick up on this and base its decision entirely on the value of pixels instead taking into account other factors\n",
    "train_images = train_images / 255 \n",
    "test_images = test_images / 255\n",
    "# (train_images, train_label) = (train_images[:100], train_label[:100]) # A Lower training sample leads to overfitting and it will not be accurately determine the test data\n",
    "# overfitting should be avoided at all costs\n",
    "\n",
    "print(\"Training data size : \", f\"{train_label.shape[0]:,}\")\n",
    "print(\"Test data size     : \", f\"{test_label.shape[0]:,}\")"
   ]
  },
  {
   "cell_type": "markdown",
   "metadata": {},
   "source": [
    "We can represent what the network sees by putting the values in a grid\n",
    "\n",
    "The data is a 28x28 matrix with numbers now ranging from 0 to 1. We can plot each point on a graph as a pixel\n",
    "\n",
    "Use `sample_image_index` to change the image shown below"
   ]
  },
  {
   "cell_type": "code",
   "execution_count": 195,
   "metadata": {},
   "outputs": [
    {
     "name": "stdout",
     "output_type": "stream",
     "text": [
      "Image label : 5\n"
     ]
    },
    {
     "data": {
      "image/png": "[encoded data removed]",
      "text/plain": [
       "<Figure size 640x480 with 1 Axes>"
      ]
     },
     "metadata": {},
     "output_type": "display_data"
    }
   ],
   "source": [
    "sample_image_index = 0\n",
    "\n",
    "plt.imshow(train_images[sample_image_index],cmap=\"grey\")\n",
    "# cmap changes the colour scheme, but keep in mind that the model has no perception of colour, only the value of each pixel in the grid.\n",
    "print(\"Image label :\", train_label[sample_image_index])"
   ]
  },
  {
   "cell_type": "markdown",
   "metadata": {},
   "source": [
    "# The Machine learning model\n",
    "\n",
    "Neural networks generate their answers by passing the data through its layers, each node multiplies the previous node's output by a weight then adds a bias. This is then passed through an activation function to scale it between a set range of values and to smooth the output. The activation function can have an effect on the accuracy of the model so its best to try a few.\n",
    "\n",
    "input layer -> hidden layer(s) -> output layer\n",
    "\n",
    "The Input layer are the first layer of a network and is where the data starts, in this example it is a list of all the pixels of the input image\n",
    "\n",
    "Hidden layers vary in number of nodes and amount of layers, the more layers it has the more complex functions it can make but it will become more expensive to computate, the number of nodes helps provide more information to the next layer. There is no science behind the number and layers of nodes to have. Consider the hidden layers as the capacity of a network to learn more complex functions\n",
    "\n",
    "The Output layer should contain all the possible outputs you expect, in our case it is values 0 to 9, these values are used determine what the network has decided to catagorise the input by taking the largest value. The output is also used to calculate the loss/cost (how far it is from being correct) and accuracy (correct predictions out of total predictions).\n",
    "\n",
    "Initialise a model with the code below"
   ]
  },
  {
   "cell_type": "code",
   "execution_count": 161,
   "metadata": {},
   "outputs": [],
   "source": [
    "model = tf.keras.models.Sequential([\n",
    "  tf.keras.layers.Flatten(input_shape=(28, 28)),\n",
    "  tf.keras.layers.Dense(32, activation=\"relu\"),\n",
    "  tf.keras.layers.Dropout(0.2),\n",
    "  tf.keras.layers.Dense(10)\n",
    "])"
   ]
  },
  {
   "cell_type": "markdown",
   "metadata": {},
   "source": [
    "The model we initialised is a Sequential model, data is passed through each layer at a time, it is one of the more basic neural network structures\n",
    "\n",
    "The order of the layers matter\n",
    "\n",
    "- tf.keras.layers.Flatten()\n",
    "    - Input layer, flattens the input numpy array to be a list with length 784 (28 * 28)\n",
    "- tf.keras.layers.Dense(x, activation=\"relu\")\n",
    "    - this adds a layer of x nodes with an activation function\n",
    "- tf.keras.layers.Dropout()\n",
    "    - randomly sets the previous input value to zero to help prevent overfitting, it is a fraction of the nodes to turn off (the node turned off is random but the amount of nodes turned off is not)\n",
    "- tf.keras.layers.Dense(x)\n",
    "    - This final layer is the output and should be the size of the expected outputs"
   ]
  },
  {
   "cell_type": "markdown",
   "metadata": {},
   "source": [
    "Below code takes the sample data point, of our dataset, and passes it through the model to predict what it is, the model has been initialised with random weights so the answers are all mostly wrong"
   ]
  },
  {
   "cell_type": "code",
   "execution_count": 162,
   "metadata": {},
   "outputs": [
    {
     "name": "stdout",
     "output_type": "stream",
     "text": [
      "1/1 [==============================] - 0s 34ms/step\n",
      "Network Answer : 4\n",
      "Actual Answer  : 5\n",
      "Confidence levels : \n"
     ]
    },
    {
     "data": {
      "text/plain": [
       "{0: 0.0735,\n",
       " 1: 0.0942,\n",
       " 2: 0.123,\n",
       " 3: 0.1331,\n",
       " 4: 0.1688,\n",
       " 5: 0.0677,\n",
       " 6: 0.089,\n",
       " 7: 0.0876,\n",
       " 8: 0.0629,\n",
       " 9: 0.1003}"
      ]
     },
     "execution_count": 162,
     "metadata": {},
     "output_type": "execute_result"
    }
   ],
   "source": [
    "predictions = model.predict(train_images[[sample_image_index]])\n",
    "# soft max scales the values between 0 and 1 with the constraint that the sum is equal to 1\n",
    "probablities = tf.nn.softmax(predictions).numpy()\n",
    "# This gets us the probability/confidence\n",
    "\n",
    "d = {index : round(confidence,4) for index, confidence in zip(range(10), probablities[0])}\n",
    "print(\"Network Answer :\", max(d,key=lambda x : d[x]))\n",
    "print(\"Actual Answer  :\", train_label[sample_image_index])\n",
    "# Weights are randomly selected so it may get one or two right by pure chance\n",
    "print(\"Confidence levels : \")\n",
    "d"
   ]
  },
  {
   "cell_type": "markdown",
   "metadata": {},
   "source": [
    "# Loss and cost\n",
    "\n",
    "Loss and cost in terms of deep learning are the same thing\n",
    "\n",
    "By taking in all the answers from the output layer, for a single performed input, we can determine how close (or how far) from being correct it is and calculate it's loss (also known as cost). A lower loss is better and also a higher accuracy is better, they are strongly negatively correlated but they are not the inverse of each other. \n",
    "\n",
    "From the calculated loss we can do a method called back propagation to adjust the weights and biases for a lower loss.\n",
    "\n",
    "$$\n",
    "\\text{error}_x = (\\text{actual activation})_x - (\\text{expected output})_x\n",
    "$$\n",
    "$$\n",
    "\\text{node cost}_x = \\text{error}_x^2 \n",
    "$$\n",
    "$$\n",
    "\\text{total cost} = \\sum_{i=1}^\\text{n}{(\\text{node cost})_i}\n",
    "$$\n",
    "\n",
    "Taking the square means all our errors are positive and will not cancel out if we wish to take the average and it magnifies larger errors compared to smaller ones.\n",
    "\n",
    "This is just one method of calculating the loss. This is the mean squared error and is also used in logistic regression, which you will learn in 4IQT."
   ]
  },
  {
   "cell_type": "markdown",
   "metadata": {},
   "source": [
    "```python\n",
    "\n",
    "# Sample code of above equations\n",
    "def node_cost(output_activation, expected_output):\n",
    "    error = output_activation - expected_output\n",
    "    return error ** 2\n",
    "\n",
    "total_cost = 0\n",
    "\n",
    "for output_index in range(len(model.output_layer)):\n",
    "    output = model(train_image[output_index])\n",
    "    total_cost += node_cost(output[output_index], train_label[output_index])\n",
    "\n",
    "```"
   ]
  },
  {
   "cell_type": "markdown",
   "metadata": {},
   "source": [
    "We can define the loss function as a variable or model.compile will find it for us if we pass use \n",
    "```python\n",
    "loss=\"SparseCategoricalCrossentropy\"\n",
    "``` "
   ]
  },
  {
   "cell_type": "code",
   "execution_count": 163,
   "metadata": {},
   "outputs": [],
   "source": [
    "loss_function = tf.keras.losses.SparseCategoricalCrossentropy(from_logits=True)"
   ]
  },
  {
   "cell_type": "markdown",
   "metadata": {},
   "source": [
    " We can find the loss value for the first data point by using below code "
   ]
  },
  {
   "cell_type": "code",
   "execution_count": 164,
   "metadata": {},
   "outputs": [
    {
     "data": {
      "text/plain": [
       "2.6933181"
      ]
     },
     "execution_count": 164,
     "metadata": {},
     "output_type": "execute_result"
    }
   ],
   "source": [
    "loss_function(train_label[:1], predictions).numpy()"
   ]
  },
  {
   "cell_type": "markdown",
   "metadata": {},
   "source": [
    "Before training the model we need to compile it, the optimizer is an algorithim which determines how to reduce loss. It is also known as Back propagation.\n",
    "\n",
    "\n",
    "Other optimizers here : https://www.tensorflow.org/api_docs/python/tf/keras/optimizers\n",
    "\n",
    "Back propagation is very math heavy and involves multivariable calculus.\n",
    "\n",
    "More information here : http://neuralnetworksanddeeplearning.com/chap2.html"
   ]
  },
  {
   "cell_type": "code",
   "execution_count": 165,
   "metadata": {},
   "outputs": [],
   "source": [
    "model.compile(optimizer=\"adam\", loss=loss_function, metrics=[\"accuracy\"])"
   ]
  },
  {
   "cell_type": "markdown",
   "metadata": {},
   "source": [
    "Now we can train the model using the data, One epoch means the model has seen every image in the training data once. Iterating this step improves accuracy.\n",
    "\n",
    "A Batch is the amount images handed to the model before adjusting its weights. Adjusting weights too soon can be bad should the model recieve multiple of the same in the row. The order of input does effect the neural network but this dataset is meant to be unordered as the previous result does not effect the next.\n",
    "\n",
    "An epoch too low results in a poor accuracy, but a high epoch will take more time and will also need more data to avoid overfitting. Additionally training has a diminishing return on accuracy with the largest jumps of accuracy occuring first then rapidly decreasing after."
   ]
  },
  {
   "cell_type": "code",
   "execution_count": 166,
   "metadata": {},
   "outputs": [
    {
     "name": "stdout",
     "output_type": "stream",
     "text": [
      "Epoch 1/5\n",
      "1875/1875 [==============================] - 2s 803us/step - loss: 0.4628 - accuracy: 0.8648\n",
      "Epoch 2/5\n",
      "1875/1875 [==============================] - 2s 811us/step - loss: 0.2737 - accuracy: 0.9186\n",
      "Epoch 3/5\n",
      "1875/1875 [==============================] - 2s 821us/step - loss: 0.2353 - accuracy: 0.9281\n",
      "Epoch 4/5\n",
      "1875/1875 [==============================] - 2s 830us/step - loss: 0.2149 - accuracy: 0.9361\n",
      "Epoch 5/5\n",
      "1875/1875 [==============================] - 2s 808us/step - loss: 0.2029 - accuracy: 0.9374\n"
     ]
    }
   ],
   "source": [
    "history = model.fit(train_images, train_label,epochs=5)\n",
    "# model.fit returns the history of training over the epochs to save later"
   ]
  },
  {
   "cell_type": "markdown",
   "metadata": {},
   "source": [
    "Note that in juypter the more times you run the cell above the more accurate it gets, this is becuase it is updating the model object everytime and juypter keeps the model object in memory loaded.\n",
    "\n",
    "If you want to reset the results then re-run the cell where `model` was initialized."
   ]
  },
  {
   "cell_type": "markdown",
   "metadata": {},
   "source": [
    "Finally we evaluate our model with the test data, since we are not training it we dont have to iterate over it."
   ]
  },
  {
   "cell_type": "code",
   "execution_count": 167,
   "metadata": {},
   "outputs": [
    {
     "name": "stdout",
     "output_type": "stream",
     "text": [
      "313/313 - 0s - loss: 0.1376 - accuracy: 0.9590 - 275ms/epoch - 878us/step\n"
     ]
    }
   ],
   "source": [
    "test_loss, test_accuracy = model.evaluate(test_images, test_label, verbose=2)\n",
    "# model.evaluate() returns an array in form [cost, accuracy]"
   ]
  },
  {
   "cell_type": "markdown",
   "metadata": {},
   "source": [
    " The more we train the model the more accurate it becomes against the test set, however there is an upper limit to the model in its current state. To get a higher accuracy on the test data we can:\n",
    " - Adjust epochs\n",
    " - Adjust nodes\n",
    " - Adjust layers\n",
    " - Improve training data with more variation or more accurate labels\n",
    " - Change batch size\n",
    " - Use other activation functions\n",
    " - Change dropout rate\n",
    " - Use other back propagation functions\n",
    " - Use other types of nodes\n",
    " - Use Pre-processing\n",
    "\n",
    "A more complex network will mean it will take longer to train as there is more to calculate, there is no equation for calculating the network size, shape or even optimal amount of epochs for a specific problem so its a matter of trial and error\n",
    "\n",
    "Also you need to re-train it everytime you adjust it."
   ]
  },
  {
   "cell_type": "markdown",
   "metadata": {},
   "source": [
    "# Overfitting and model performance\n",
    "\n",
    "Accuracy increases over epochs, the more it is trained the better it becomes. However the more epochs the model goes over, the more information about the training data is leaked into the model. Over time this causes overfitting, the model begins memorising the data instead of looking for patterns, overfitting occurs sooner for smaller and less varied datasets. \n",
    "\n",
    "We can look for overfitting by using the test data and comparing it to the training data, a drop in accuracy and spike in cost generally means it is overfitted. \n",
    "\n",
    "- A spike in cost means that it is less confident on its final answers\n",
    "- A drop in accuracy is because the model has memorised the training data instead of learning patterns, An overfitted model can still be accurate so it is important to use cost as well\n",
    "\n",
    "However no spike also suggests that the model has likely not been trained enough and it can still figure out a lower cost function.\n",
    "\n",
    "The speed of a network depends on its size, larger more complex models require more memory, data and calculations."
   ]
  },
  {
   "cell_type": "code",
   "execution_count": 168,
   "metadata": {},
   "outputs": [
    {
     "data": {
      "text/plain": [
       "<matplotlib.legend.Legend at 0x226a2c7e090>"
      ]
     },
     "execution_count": 168,
     "metadata": {},
     "output_type": "execute_result"
    },
    {
     "data": {
      "image/png": "[encoded data removed]",
      "text/plain": [
       "<Figure size 640x480 with 1 Axes>"
      ]
     },
     "metadata": {},
     "output_type": "display_data"
    }
   ],
   "source": [
    "data = pd.DataFrame(history.history)\n",
    "data.loc[len(data)] = (test_loss, test_accuracy)\n",
    "\n",
    "plt.plot(data)\n",
    "plt.legend(data.columns)"
   ]
  },
  {
   "cell_type": "markdown",
   "metadata": {},
   "source": [
    "Using pandas we can save the history directly to csv to copy over into an excel document for further analysis"
   ]
  },
  {
   "cell_type": "code",
   "execution_count": 169,
   "metadata": {},
   "outputs": [],
   "source": [
    "data.to_csv(\"Training data.csv\")"
   ]
  },
  {
   "cell_type": "markdown",
   "metadata": {},
   "source": [
    "# Using the model\n",
    "\n",
    "Instead of training the model everytime we want to use it, we can save the neural network then load it in later. `model.save(file_path)` saves the entire model, even its structure, so we can load it back in using `models.load_model(file_path)`\n",
    "\n",
    "Make sure to use the extention .keras"
   ]
  },
  {
   "cell_type": "code",
   "execution_count": 170,
   "metadata": {},
   "outputs": [],
   "source": [
    "model.save(\"mynetwork.keras\")\n",
    "model = tf.keras.models.load_model(\"mynetwork.keras\")"
   ]
  },
  {
   "cell_type": "markdown",
   "metadata": {},
   "source": [
    "To make predictions we use `model.predict()` and pass in a list of the predictions we want it to make."
   ]
  },
  {
   "cell_type": "code",
   "execution_count": 172,
   "metadata": {},
   "outputs": [
    {
     "name": "stdout",
     "output_type": "stream",
     "text": [
      "1/1 [==============================] - 0s 13ms/step\n",
      "Network Answer : 7\n",
      "Actual Answer  : 7\n"
     ]
    },
    {
     "data": {
      "text/plain": [
       "{0: 0.0,\n",
       " 1: 0.0,\n",
       " 2: 0.0,\n",
       " 3: 0.0002,\n",
       " 4: 0.0,\n",
       " 5: 0.0,\n",
       " 6: 0.0,\n",
       " 7: 0.9998,\n",
       " 8: 0.0,\n",
       " 9: 0.0}"
      ]
     },
     "execution_count": 172,
     "metadata": {},
     "output_type": "execute_result"
    }
   ],
   "source": [
    "predictions = model.predict(test_images[[sample_image_index]])\n",
    "# soft max scales the values between 0 and 1 with the constraint that the sum is equal to 1\n",
    "probablities = tf.nn.softmax(predictions).numpy()\n",
    "# This gets us the probability/confidence\n",
    "\n",
    "d = {index : round(confidence,4) for index, confidence in zip(range(10), probablities[0])}\n",
    "print(\"Network Answer :\", max(d,key=lambda x : d[x]))\n",
    "print(\"Actual Answer  :\", test_label[sample_image_index])\n",
    "d"
   ]
  },
  {
   "cell_type": "markdown",
   "metadata": {},
   "source": [
    "Now try and modify either the data or neural network to get as high of an accuracy as possible for the testing data. You can compare to the leaderboard found [here](http://yann.lecun.com/exdb/mnist/)\n",
    "\n",
    "As a challenge automate the network shape iteration and epoch to find the optimal neural network shape and weights."
   ]
  }
 ],
 "metadata": {
  "kernelspec": {
   "display_name": "Python 3",
   "language": "python",
   "name": "python3"
  },
  "language_info": {
   "codemirror_mode": {
    "name": "ipython",
    "version": 3
   },
   "file_extension": ".py",
   "mimetype": "text/x-python",
   "name": "python",
   "nbconvert_exporter": "python",
   "pygments_lexer": "ipython3",
   "version": "3.11.3"
  }
 },
 "nbformat": 4,
 "nbformat_minor": 2
}
